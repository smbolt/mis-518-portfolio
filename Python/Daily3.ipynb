{
 "cells": [
  {
   "cell_type": "code",
   "execution_count": null,
   "metadata": {},
   "outputs": [],
   "source": [
    "import pandas as pd\n",
    "from fbprophet import Prophet\n",
    "from pathlib import Path\n",
    "\n",
    "import warnings\n",
    "warnings.simplefilter(\"ignore\")"
   ]
  },
  {
   "cell_type": "code",
   "execution_count": null,
   "metadata": {},
   "outputs": [],
   "source": [
    "filepath = Path('C:\\_work\\CSUG\\Daily_Consumption.csv')\n",
    "date_format = \"%Y%m%d\" # 20200101\n",
    "print(filepath)\n",
    "df = pd.read_csv(filepath, \n",
    "                 header=0, \n",
    "                 parse_dates=['Period_ID'], \n",
    "                 index_col=['Period_ID'], \n",
    "                 infer_datetime_format=False, \n",
    "                 usecols=['Period_ID', 'Consumed'])\n",
    "\n",
    "df.index = pd.to_datetime(df.index, exact=True, cache=True, format=date_format)\n",
    "df.head()"
   ]
  }
 ],
 "metadata": {
  "language_info": {
   "name": "python"
  },
  "orig_nbformat": 4
 },
 "nbformat": 4,
 "nbformat_minor": 2
}
