{
 "cells": [
  {
   "cell_type": "code",
   "execution_count": null,
   "metadata": {},
   "outputs": [],
   "source": [
    "import pandas as pd\n",
    "import numpy as np\n",
    "import matplotlib.pyplot as plt\n",
    "from pathlib import Path\n",
    "import warnings\n",
    "\n",
    "warnings.filterwarnings('ignore')\n",
    "plt.rcParams[\"figure.figsize\"] = [16, 3]\n",
    "\n",
    "filepath = Path('C:\\_work\\CSUG\\Daily_Consumption.csv')\n",
    "\n",
    "\n",
    "ts_format = \"%Y%m%d\" # 20200101\n",
    "\n",
    "ts = pd.read_csv(filepath, \n",
    "                 header=0, \n",
    "                 parse_dates=['Period_ID'], \n",
    "                 index_col=['Period_ID'], \n",
    "                 infer_datetime_format=False, \n",
    "                 usecols=['Period_ID', 'Consumed'])\n",
    "ts.index = pd.to_datetime(ts.index, exact=True, cache=True, format=ts_format)"
   ]
  },
  {
   "cell_type": "code",
   "execution_count": null,
   "metadata": {},
   "outputs": [],
   "source": [
    "ts.plot(title=\"Daily Consumption\", alpha=0.6)"
   ]
  },
  {
   "cell_type": "code",
   "execution_count": null,
   "metadata": {},
   "outputs": [],
   "source": [
    "def plot_outliers(outliers, data, method='KNN',\n",
    "                  halignment='right',\n",
    "                  valignment='bottom',\n",
    "                  labels=False):\n",
    "    ax = data.plot(alpha=0.6)\n",
    "    \n",
    "    if labels:\n",
    "        for i in outliers['value'].items():\n",
    "            plt.plot(i[0], i[1], 'rx')\n",
    "            plt.text(i[0], i[1], f'{i[0].date()}',\n",
    "                     horizontalalignment=halignment,\n",
    "                     verticalalignment=valignment)\n",
    "    else:\n",
    "        data.loc[outliers.index].plot(ax=ax, style='rx')\n",
    "        \n",
    "    plt.title('Daily Consumption - {method}')\n",
    "    plt.xlabel('Date'); plt.ylable('Consumption')\n",
    "    plt.legend(['Daily Consumption', 'outliers'])\n",
    "    plt.show()\n"
   ]
  }
 ],
 "metadata": {
  "language_info": {
   "name": "python"
  },
  "orig_nbformat": 4
 },
 "nbformat": 4,
 "nbformat_minor": 2
}
