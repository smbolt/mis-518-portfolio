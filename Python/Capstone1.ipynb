{
 "cells": [
  {
   "cell_type": "code",
   "execution_count": null,
   "metadata": {},
   "outputs": [],
   "source": [
    "import numpy as np\n",
    "import pandas as pd\n",
    "import matplotlib.pyplot as plt\n",
    "from pathlib import Path\n",
    "from fbprophet import Prophet"
   ]
  },
  {
   "cell_type": "code",
   "execution_count": null,
   "metadata": {},
   "outputs": [],
   "source": [
    "filepath = Path('C:\\_work\\CSUG\\Daily_Consumption.csv')\n",
    "date_format = \"%Y%m%d\" # 20200101\n",
    "print(filepath)\n",
    "df = pd.read_csv(filepath, \n",
    "                 header=0, \n",
    "                 parse_dates=['Period_ID'], \n",
    "                 index_col=['Period_ID'], \n",
    "                 infer_datetime_format=False, \n",
    "                 usecols=['Period_ID', 'Consumed'])\n",
    "\n",
    "df.index = pd.to_datetime(df.index, exact=True, cache=True, format=date_format)\n",
    "df.head()"
   ]
  },
  {
   "cell_type": "code",
   "execution_count": null,
   "metadata": {},
   "outputs": [],
   "source": [
    "fig, ax = plt.subplots()\n",
    "ax.plot(df['Consumed'])\n",
    "ax.set_xlabel('Period_ID')\n",
    "ax.set_ylabel('Consumed')\n",
    "fig.autofmt_xdate()\n",
    "plt.tight_layout()\n"
   ]
  },
  {
   "cell_type": "code",
   "execution_count": null,
   "metadata": {},
   "outputs": [],
   "source": [
    "df.columns = ['y']\n",
    "df.head()"
   ]
  },
  {
   "cell_type": "code",
   "execution_count": null,
   "metadata": {},
   "outputs": [],
   "source": [
    "# Partition the data set\n",
    "\n",
    "df_train = df['2021-01-01':'2022-04-30']\n",
    "#print(df_train.shape[0])\n",
    "print(df_train.head())\n",
    "#print(df_train.tail())\n",
    "\n",
    "df_validate = df['2022-05-01':'2022-09-30']\n",
    "#print(df_validate.shape[0])\n",
    "print(df_validate.head())\n",
    "#print(df_validate.tail())"
   ]
  }
 ],
 "metadata": {
  "language_info": {
   "name": "python"
  },
  "orig_nbformat": 4
 },
 "nbformat": 4,
 "nbformat_minor": 2
}
